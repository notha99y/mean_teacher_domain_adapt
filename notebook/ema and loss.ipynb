{
 "cells": [
  {
   "cell_type": "markdown",
   "metadata": {},
   "source": [
    "## Exponential Moving Average\n",
    "t_i = alpha * t_{i-1} + (1 - alpha) * s_i, with a value of alpha = 0.99"
   ]
  },
  {
   "cell_type": "code",
   "execution_count": 1,
   "metadata": {},
   "outputs": [],
   "source": [
    "import os\n",
    "os.chdir(os.path.join(os.getcwd(), '..'))"
   ]
  },
  {
   "cell_type": "code",
   "execution_count": 2,
   "metadata": {},
   "outputs": [
    {
     "name": "stderr",
     "output_type": "stream",
     "text": [
      "Using TensorFlow backend.\n"
     ]
    }
   ],
   "source": [
    "import numpy as np\n",
    "from src.model import mean_teacher"
   ]
  },
  {
   "cell_type": "code",
   "execution_count": 3,
   "metadata": {},
   "outputs": [],
   "source": [
    "configs = {\n",
    "    'input_shape': (480,640,3),\n",
    "    'num_of_classes': 10\n",
    "}"
   ]
  },
  {
   "cell_type": "code",
   "execution_count": 4,
   "metadata": {},
   "outputs": [
    {
     "name": "stdout",
     "output_type": "stream",
     "text": [
      "WARNING:tensorflow:From /home/dh/anaconda3/lib/python3.7/site-packages/tensorflow/python/framework/op_def_library.py:263: colocate_with (from tensorflow.python.framework.ops) is deprecated and will be removed in a future version.\n",
      "Instructions for updating:\n",
      "Colocations handled automatically by placer.\n"
     ]
    },
    {
     "name": "stderr",
     "output_type": "stream",
     "text": [
      "/home/dh/anaconda3/lib/python3.7/site-packages/keras_applications/resnet50.py:265: UserWarning: The output shape of `ResNet50(include_top=False)` has been changed since Keras 2.2.0.\n",
      "  warnings.warn('The output shape of `ResNet50(include_top=False)` '\n"
     ]
    }
   ],
   "source": [
    "student_model, teacher_model = mean_teacher(configs)"
   ]
  },
  {
   "cell_type": "code",
   "execution_count": 21,
   "metadata": {},
   "outputs": [],
   "source": [
    "def ema(student_model, teacher_model, alpha = 0.99):\n",
    "    '''\n",
    "    Calculates the exponential moving average of the student model weights and updates the teacher model weights\\\n",
    "    \n",
    "    formula:\n",
    "    t_i = alpha * t_{i-1} + (1 - alpha) * s_i, with default alpha = 0.99\n",
    "    t_i = weights of teacher model in current epoch\n",
    "    s_i = weights of student model in current epoch\n",
    "    \n",
    "    '''\n",
    "    \n",
    "    student_weights = student_model.get_weights()\n",
    "    teacher_weights = teacher_model.get_weights()\n",
    "    \n",
    "    assert len(student_weights) == len(teacher_weights), 'length of student and teachers weights are not equal Please check. \\n Student: {}, \\n Teacher:{}'.format(len(student_weights), len(teacher_weights))\n",
    "    \n",
    "    new_layers = []\n",
    "    for i, layers in enumerate(student_weights):\n",
    "        new_layer = alpha*(teacher_weights[i]) + (1-alpha)*layers\n",
    "        new_layer.trainable = False\n",
    "        new_layers.append(new_layer)\n",
    "    teacher_model.set_weights(new_layers)\n",
    "    "
   ]
  },
  {
   "attachments": {},
   "cell_type": "markdown",
   "metadata": {},
   "source": [
    "## Loss function\n",
    "### model architecture\n",
    "\n",
    "![test](pictures/student_teacher_model_arch.png)"
   ]
  },
  {
   "cell_type": "code",
   "execution_count": 22,
   "metadata": {},
   "outputs": [],
   "source": [
    "from keras.optimizers import Adam\n",
    "from keras.models import Model\n",
    "import keras.backend as K"
   ]
  },
  {
   "cell_type": "code",
   "execution_count": 12,
   "metadata": {},
   "outputs": [],
   "source": [
    "def categorical_crossentropy(y_true, y_pred):\n",
    "    return K.categorical_crossentropy(y_true, y_pred)"
   ]
  },
  {
   "cell_type": "code",
   "execution_count": 13,
   "metadata": {},
   "outputs": [],
   "source": [
    "def weighted_sum_loss(squared_difference_layer):\n",
    "\n",
    "    def categorical_crossentropy_custom(y_true, y_pred):\n",
    "        ratio = 0.5\n",
    "        return ratio * K.categorical_crossentropy(y_true, y_pred) + (1 - ratio)*squared_difference_layer\n",
    "    \n",
    "    return categorical_crossentropy_custom"
   ]
  },
  {
   "cell_type": "code",
   "execution_count": 23,
   "metadata": {},
   "outputs": [],
   "source": [
    "x_src = Input()\n",
    "x_tgt = Input()\n",
    "x_src_student = student_model(x_src)\n",
    "x_tgt_student = student_model(x_tgt)\n",
    "x_tgt_teacher = teacher_model(x_tgt)\n",
    "# outputs = K.square(student_model.output - teacher_model.output)\n",
    "sq_diff = K.sum(K.square( x_tgt_student - x_tgt_teacher ))\n",
    "\n",
    "def custom_loss(y_true, y_pred):\n",
    "    ratio = 0.5\n",
    "    return ratio * K.categorical_crossentropy(y_true, y_pred) + (1 - ratio)*sq_diff\n",
    "\n",
    "\n",
    "Model([x_src, x_tgt], x_src_student)"
   ]
  },
  {
   "cell_type": "markdown",
   "metadata": {},
   "source": [
    "useful links:\n",
    "- https://keras.io/layers/about-keras-layers/\n",
    "- https://keras.io/getting-started/functional-api-guide/\n",
    "- https://github.com/keras-team/keras/blob/master/keras/losses.py\n",
    "- https://keras.io/getting-started/functional-api-guide/\n",
    "- https://towardsdatascience.com/advanced-keras-constructing-complex-custom-losses-and-metrics-c07ca130a618"
   ]
  },
  {
   "cell_type": "code",
   "execution_count": null,
   "metadata": {},
   "outputs": [],
   "source": []
  }
 ],
 "metadata": {
  "kernelspec": {
   "display_name": "Python 3",
   "language": "python",
   "name": "python3"
  },
  "language_info": {
   "codemirror_mode": {
    "name": "ipython",
    "version": 3
   },
   "file_extension": ".py",
   "mimetype": "text/x-python",
   "name": "python",
   "nbconvert_exporter": "python",
   "pygments_lexer": "ipython3",
   "version": "3.7.2"
  }
 },
 "nbformat": 4,
 "nbformat_minor": 2
}
